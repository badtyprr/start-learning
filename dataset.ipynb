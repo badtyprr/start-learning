{
 "cells": [
  {
   "cell_type": "code",
   "execution_count": 1,
   "metadata": {
    "collapsed": true
   },
   "outputs": [],
   "source": [
    "# A Notebook dedicated to data collection and processing\n",
    "from scraper import BingImageScraper\n",
    "from keys.azure import subscription_key"
   ]
  },
  {
   "cell_type": "code",
   "execution_count": 2,
   "metadata": {},
   "outputs": [],
   "source": [
    "bis = BingImageScraper(\n",
    "    output_dir='output',\n",
    "    subscription_key=subscription_key,\n",
    "    max_results=250,\n",
    "    group_size=50,\n",
    "    timeout=30,\n",
    "    min_width=400,\n",
    "    min_height=400\n",
    ")"
   ]
  },
  {
   "cell_type": "code",
   "execution_count": 3,
   "metadata": {},
   "outputs": [
    {
     "name": "stdout",
     "output_type": "stream",
     "text": [
      "[INFO] searching Bing API for 'whale tail -(celebrity OR celeb) -wallpaper -template -knife -(tour OR tours) -(ipad OR tablet OR product) -(sand OR sandcastle OR castle) -fountain -(ship OR boat OR car OR kawasaki OR vehicle OR nissan OR auto OR porsche) -wear -clothing -surfboard -clipart -slang -costa -rica -croptop -crop -stock -socal -aquatix -trailer -jewellry -(vector OR drawing OR illustration) -glass -polyester -panty -party -car -hot -thong -jewelry -poringa -tattoo -bracelet -butt -cindy -leggings -lollipops -site:(shutterstock.com OR dreamstime.com OR ebay.com OR 3forint.com OR pinterest.com OR authenticforum.com OR taringa.net OR acidcow.com OR wikipedia.org OR pinterest.es OR popsugar.com.au OR pinterest.de OR pinterest.co.uk OR thewolfweb.com OR wikimedia.org OR pinterest.pt OR webs.com OR pinterest.se OR gettyimages.com OR dbpedia.org OR texags.com OR pinterest.ca OR metro.co.uk OR deviantart.com OR pinterest.jp OR arkive.org OR throwsticks.com OR flickr.com)'\n"
     ]
    },
    {
     "name": "stdout",
     "output_type": "stream",
     "text": [
      "[INFO] 250 total results for 'whale tail -(celebrity OR celeb) -wallpaper -template -knife -(tour OR tours) -(ipad OR tablet OR product) -(sand OR sandcastle OR castle) -fountain -(ship OR boat OR car OR kawasaki OR vehicle OR nissan OR auto OR porsche) -wear -clothing -surfboard -clipart -slang -costa -rica -croptop -crop -stock -socal -aquatix -trailer -jewellry -(vector OR drawing OR illustration) -glass -polyester -panty -party -car -hot -thong -jewelry -poringa -tattoo -bracelet -butt -cindy -leggings -lollipops -site:(shutterstock.com OR dreamstime.com OR ebay.com OR 3forint.com OR pinterest.com OR authenticforum.com OR taringa.net OR acidcow.com OR wikipedia.org OR pinterest.es OR popsugar.com.au OR pinterest.de OR pinterest.co.uk OR thewolfweb.com OR wikimedia.org OR pinterest.pt OR webs.com OR pinterest.se OR gettyimages.com OR dbpedia.org OR texags.com OR pinterest.ca OR metro.co.uk OR deviantart.com OR pinterest.jp OR arkive.org OR throwsticks.com OR flickr.com)'\n[INFO] making request for group 0-50 of 250...\n"
     ]
    },
    {
     "name": "stdout",
     "output_type": "stream",
     "text": [
      "[INFO] saving images for group 0-50 of 250...\n[INFO] fetching: https://gowhalewatchingsydney.com.au/wp-content/uploads/2016/03/Whale-TAIL-SLAPsmaller.jpg\n"
     ]
    },
    {
     "name": "stdout",
     "output_type": "stream",
     "text": [
      "[INFO] fetching: http://4.bp.blogspot.com/_sRrqxVuGxyY/S9CbL7iyMjI/AAAAAAAAAmE/uWioDm53k3o/s1600/shiny-and-smooth-tail-of-hump-back-whale.jpg\n"
     ]
    },
    {
     "name": "stdout",
     "output_type": "stream",
     "text": [
      "[INFO] fetching: http://imgc.allpostersimages.com/images/P-473-488-90/26/2674/AZ2UD00Z/posters/stuart-westmorland-humpback-whale-s-tail-going-into-the-water.jpg\n[WARNING] 366x488 is smaller than 400x400, skipping: http://imgc.allpostersimages.com/images/P-473-488-90/26/2674/AZ2UD00Z/posters/stuart-westmorland-humpback-whale-s-tail-going-into-the-water.jpg\n[INFO] fetching: http://www.piersallison.co.uk/images/nz/whale_tail.jpg\n"
     ]
    },
    {
     "name": "stdout",
     "output_type": "stream",
     "text": [
      "[INFO] fetching: http://therealcape.com/wp-content/uploads/2014/01/whale-tail.jpg\n"
     ]
    },
    {
     "name": "stdout",
     "output_type": "stream",
     "text": [
      "[WARNING] 550x367 is smaller than 400x400, skipping: http://therealcape.com/wp-content/uploads/2014/01/whale-tail.jpg\n[INFO] fetching: http://www.whale-world.com/wp-content/uploads/Whale-Tail_624.jpg\n"
     ]
    },
    {
     "name": "stdout",
     "output_type": "stream",
     "text": [
      "[INFO] fetching: https://img.huffingtonpost.com/asset/56e214921500002a000b1a3a.jpeg?cache=nlxqu2goxg&ops=1910_1000\n"
     ]
    },
    {
     "name": "stdout",
     "output_type": "stream",
     "text": [
      "[WARNING] invalid extension, truncating extension: https://img.huffingtonpost.com/asset/56e214921500002a000b1a3a.jpeg?cache=nlxqu2goxg&ops=1910_1000\n[INFO] fetching: http://ww1.prweb.com/prfiles/2004/09/15/158625/whale_tail_2220.jpg\n"
     ]
    },
    {
     "name": "stdout",
     "output_type": "stream",
     "text": [
      "[INFO] fetching: https://greenerideal.com/wp-content/uploads/2012/05/whale-tail.jpg\n"
     ]
    },
    {
     "name": "stdout",
     "output_type": "stream",
     "text": [
      "[WARNING] deleting corrupted image: output/whale_tail/00000006.jpg\n[INFO] fetching: http://images.fineartamerica.com/images-medium-large/humpback-whale-tail-tonga-mike-parry.jpg\n"
     ]
    },
    {
     "name": "stdout",
     "output_type": "stream",
     "text": [
      "[INFO] fetching: http://i.dailymail.co.uk/i/pix/2010/01/04/article-1240503-07C0DAFE000005DC-726_634x666.jpg\n"
     ]
    },
    {
     "name": "stdout",
     "output_type": "stream",
     "text": [
      "[INFO] fetching: https://www.weneedavacation.com/images/guide/whale-tail.jpg\n"
     ]
    },
    {
     "name": "stdout",
     "output_type": "stream",
     "text": [
      "[INFO] fetching: http://g2gvisions.files.wordpress.com/2010/06/img_2284-whale-tail.jpg\n"
     ]
    },
    {
     "name": "stdout",
     "output_type": "stream",
     "text": [
      "[INFO] fetching: https://thedailychapter.files.wordpress.com/2012/07/whale-tail.jpeg\n"
     ]
    },
    {
     "name": "stdout",
     "output_type": "stream",
     "text": [
      "[INFO] fetching: http://2.bp.blogspot.com/_cM7P2pIvRgw/TJZViArh_kI/AAAAAAAABsc/KqRDsIbxmUU/s1600/whale+tail+1.jpg\n"
     ]
    },
    {
     "name": "stdout",
     "output_type": "stream",
     "text": [
      "[INFO] fetching: http://whaleopedia.org/animalfund/wp-content/uploads/2013/10/Right-Whale-Tail-Jim-Watt1.jpg\n"
     ]
    },
    {
     "name": "stdout",
     "output_type": "stream",
     "text": [
      "[INFO] fetching: http://marinesciencetoday.com/wp-content/uploads/2014/02/Humpback-whale-tail.-Photo-credit-NOAA-AFSC.-Copy.jpg\n"
     ]
    },
    {
     "name": "stdout",
     "output_type": "stream",
     "text": [
      "[INFO] fetching: http://www.marysrosaries.com/collaboration/images/0/00/Humpback_whale_tail_1823.jpg\n"
     ]
    },
    {
     "name": "stdout",
     "output_type": "stream",
     "text": [
      "[INFO] fetching: http://images.fineartamerica.com/images-medium-large/humpback-whale-tail-photography-by-jessie-reeder.jpg\n"
     ]
    },
    {
     "name": "stdout",
     "output_type": "stream",
     "text": [
      "[INFO] fetching: https://whalecoast.files.wordpress.com/2012/05/311.jpg\n"
     ]
    },
    {
     "name": "stdout",
     "output_type": "stream",
     "text": [
      "[INFO] fetching: http://cornforthimages.com/wp-content/uploads/2012/11/Humpback-Whale-Tail-128.jpg\n[WARNING] deleting corrupted image: output/whale_tail/00000018.jpg\n[INFO] fetching: http://cornforthimages.com/wp-content/uploads/2012/11/Humpback-Whale-Tail-48.jpg\n"
     ]
    },
    {
     "name": "stdout",
     "output_type": "stream",
     "text": [
      "[WARNING] deleting corrupted image: output/whale_tail/00000019.jpg\n[INFO] fetching: http://athomemms.com/index/wp-content/uploads/2015/11/Whale-Watching.jpg\n"
     ]
    }
   ],
   "source": [
    "search_terms = [\n",
    "    'whale tail',\n",
    "    'mountain',\n",
    "    'bluff',\n",
    "    'ocean',\n",
    "    'water',\n",
    "    'sky',\n",
    "    'cloud',\n",
    "    'snow',\n",
    "    'iceberg',\n",
    "    'small boat',\n",
    "    'kayak',\n",
    "    'sailor',\n",
    "    'person',\n",
    "    'barnacle',\n",
    "    'seagull',\n",
    "    'camera',\n",
    "    'kelp',\n",
    "    'rainbow',\n",
    "    'building',\n",
    "    'forest'\n",
    "]\n",
    "\n",
    "negative_terms = '-(celebrity OR celeb) -wallpaper -template -knife -(tour OR tours) -(ipad OR tablet OR product) -(sand OR sandcastle OR castle) -fountain -(ship OR boat OR car OR kawasaki OR vehicle OR nissan OR auto OR porsche) -wear -clothing -surfboard -clipart -slang -costa -rica -croptop -crop -stock -socal -aquatix -trailer -jewellry -(vector OR drawing OR illustration) -glass -polyester -panty -party -car -hot -thong -jewelry -poringa -tattoo -bracelet -butt -cindy -leggings -lollipops -site:(shutterstock.com OR dreamstime.com OR ebay.com OR 3forint.com OR pinterest.com OR authenticforum.com OR taringa.net OR acidcow.com OR wikipedia.org OR pinterest.es OR popsugar.com.au OR pinterest.de OR pinterest.co.uk OR thewolfweb.com OR wikimedia.org OR pinterest.pt OR webs.com OR pinterest.se OR gettyimages.com OR dbpedia.org OR texags.com OR pinterest.ca OR metro.co.uk OR deviantart.com OR pinterest.jp OR arkive.org OR throwsticks.com OR flickr.com)'\n",
    "\n",
    "for term in search_terms:\n",
    "    bis.scrape(\n",
    "        search_term=term + ' ' + negative_terms,\n",
    "        label=term\n",
    "    )"
   ]
  },
  {
   "cell_type": "code",
   "execution_count": null,
   "metadata": {},
   "outputs": [],
   "source": []
  }
 ],
 "metadata": {
  "kernelspec": {
   "display_name": "Python 2",
   "language": "python",
   "name": "python2"
  },
  "language_info": {
   "codemirror_mode": {
    "name": "ipython",
    "version": 2
   },
   "file_extension": ".py",
   "mimetype": "text/x-python",
   "name": "python",
   "nbconvert_exporter": "python",
   "pygments_lexer": "ipython2",
   "version": "2.7.6"
  }
 },
 "nbformat": 4,
 "nbformat_minor": 0
}
