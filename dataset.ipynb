{
 "cells": [
  {
   "cell_type": "code",
   "execution_count": 2,
   "metadata": {
    "collapsed": true
   },
   "outputs": [],
   "source": [
    "# A Notebook dedicated to data collection and processing\n",
    "from scraper import BingImageScraper\n",
    "from keys.azure import subscription_key"
   ]
  },
  {
   "cell_type": "code",
   "execution_count": 3,
   "metadata": {},
   "outputs": [],
   "source": [
    "bis = BingImageScraper(\n",
    "    output_dir='output',\n",
    "    subscription_key=subscription_key,\n",
    "    max_results=1000,\n",
    "    group_size=50,\n",
    "    timeout=30,\n",
    "    min_width=400,\n",
    "    min_height=400\n",
    ")"
   ]
  },
  {
   "cell_type": "code",
   "execution_count": 4,
   "metadata": {
    "collapsed": false
   },
   "outputs": [
    {
     "name": "stdout",
     "output_type": "stream",
     "text": [
      "[WARNING] Output directory did not exist, so it was created\n[INFO] searching Bing API for 'boat -(celebrity OR celeb) -wallpaper -template -knife -(tour OR tours) -(ipad OR tablet OR product) -(sand OR sandcastle OR castle) -fountain -(ship OR boat OR car OR kawasaki OR vehicle OR nissan OR auto OR porsche) -wear -clothing -surfboard -clipart -slang -costa -rica -croptop -crop -stock -socal -aquatix -trailer -jewellry -(vector OR drawing OR illustration) -glass -polyester -panty -party -car -hot -thong -jewelry -poringa -tattoo -bracelet -butt -cindy -leggings -lollipops -site:(shutterstock.com OR dreamstime.com OR ebay.com OR 3forint.com OR pinterest.com OR authenticforum.com OR taringa.net OR acidcow.com OR wikipedia.org OR pinterest.es OR popsugar.com.au OR pinterest.de OR pinterest.co.uk OR thewolfweb.com OR wikimedia.org OR pinterest.pt OR webs.com OR pinterest.se OR gettyimages.com OR dbpedia.org OR texags.com OR pinterest.ca OR metro.co.uk OR deviantart.com OR pinterest.jp OR arkive.org OR throwsticks.com OR flickr.com)'\n"
     ]
    },
    {
     "name": "stdout",
     "output_type": "stream",
     "text": [
      "[INFO] 56 total results for 'boat -(celebrity OR celeb) -wallpaper -template -knife -(tour OR tours) -(ipad OR tablet OR product) -(sand OR sandcastle OR castle) -fountain -(ship OR boat OR car OR kawasaki OR vehicle OR nissan OR auto OR porsche) -wear -clothing -surfboard -clipart -slang -costa -rica -croptop -crop -stock -socal -aquatix -trailer -jewellry -(vector OR drawing OR illustration) -glass -polyester -panty -party -car -hot -thong -jewelry -poringa -tattoo -bracelet -butt -cindy -leggings -lollipops -site:(shutterstock.com OR dreamstime.com OR ebay.com OR 3forint.com OR pinterest.com OR authenticforum.com OR taringa.net OR acidcow.com OR wikipedia.org OR pinterest.es OR popsugar.com.au OR pinterest.de OR pinterest.co.uk OR thewolfweb.com OR wikimedia.org OR pinterest.pt OR webs.com OR pinterest.se OR gettyimages.com OR dbpedia.org OR texags.com OR pinterest.ca OR metro.co.uk OR deviantart.com OR pinterest.jp OR arkive.org OR throwsticks.com OR flickr.com)'\n[INFO] making request for group 0-50 of 56...\n"
     ]
    },
    {
     "name": "stdout",
     "output_type": "stream",
     "text": [
      "[INFO] saving images for group 0-50 of 56...\n[INFO] fetching: https://boats-from-usa.com/sites/default/files/boats/not-specified/11875/not-specified-mv1660-jet-tunnel-118095.jpg\n"
     ]
    },
    {
     "name": "stdout",
     "output_type": "stream",
     "text": [
      "[WARNING] encountered exception: ('Connection aborted.', RemoteDisconnected('Remote end closed connection without response',)), skipping: https://boats-from-usa.com/sites/default/files/boats/not-specified/11875/not-specified-mv1660-jet-tunnel-118095.jpg\n[INFO] fetching: https://prodwebassets.s3.amazonaws.com/boats/6067959/5935820_20160913083237215_1_XLARGE.jpg\n"
     ]
    },
    {
     "name": "stdout",
     "output_type": "stream",
     "text": [
      "[INFO] fetching: http://www.chriscraftstingers.com/photos/My%20Vice/my%20vice%20-%20port%20rear.jpg\n"
     ]
    },
    {
     "name": "stdout",
     "output_type": "stream",
     "text": [
      "[INFO] fetching: http://www.velablog.it/wp-content/uploads/2014/03/Mast_Walk_AlexThomson-01.jpg\n"
     ]
    },
    {
     "name": "stdout",
     "output_type": "stream",
     "text": [
      "[INFO] fetching: https://www.abreakintheclouds.co.uk/images/full/IMG_0225_Barentsburg_Boat_II_Web_900.jpg\n"
     ]
    },
    {
     "name": "stdout",
     "output_type": "stream",
     "text": [
      "[INFO] fetching: http://www.26northyachts.com/wp-content/uploads/2016/11/donald-trump-superyacht.jpg\n"
     ]
    },
    {
     "name": "stdout",
     "output_type": "stream",
     "text": [
      "[WARNING] deleting corrupted image: output/boat/00000005.jpg\n[INFO] fetching: http://www.venekatalogi.fi/sites/default/files/boat_images/9338.jpg\n"
     ]
    },
    {
     "name": "stdout",
     "output_type": "stream",
     "text": [
      "[INFO] fetching: https://portlandmaine.files.wordpress.com/2008/01/boatsinharbor.jpg\n"
     ]
    },
    {
     "name": "stdout",
     "output_type": "stream",
     "text": [
      "[WARNING] 500x375 is smaller than 400x400, skipping: https://portlandmaine.files.wordpress.com/2008/01/boatsinharbor.jpg\n[INFO] fetching: http://i.cbc.ca/1.3560924.1462045302!/fileImage/httpImage/image.jpg_gen/derivatives/16x9_1180/setting-day-first-day-lobster-mabou-nova-scotia.jpg\n"
     ]
    },
    {
     "name": "stdout",
     "output_type": "stream",
     "text": [
      "[INFO] fetching: https://www.opticsbrands.com/gallery-5/originals/4666_inflatable-boats-SD385-20.jpg\n"
     ]
    },
    {
     "name": "stdout",
     "output_type": "stream",
     "text": [
      "[INFO] fetching: https://www.tuttobarche.it/magazine/wp-content/uploads/sites/2/2016/05/swan-115-3.png\n"
     ]
    },
    {
     "name": "stdout",
     "output_type": "stream",
     "text": [
      "[INFO] fetching: http://i.dailymail.co.uk/i/pix/2017/07/27/14/42B3A1F500000578-4736044-image-m-302_1501163056472.jpg\n"
     ]
    },
    {
     "name": "stdout",
     "output_type": "stream",
     "text": [
      "[WARNING] 306x412 is smaller than 400x400, skipping: http://i.dailymail.co.uk/i/pix/2017/07/27/14/42B3A1F500000578-4736044-image-m-302_1501163056472.jpg\n[INFO] fetching: https://imgs.yachthub.com/1/6/1/8/0/4/1_3.jpg\n"
     ]
    },
    {
     "name": "stdout",
     "output_type": "stream",
     "text": [
      "[INFO] fetching: https://nouwcdn.com/12/1325000/1310000/1303466/pics/201705010838375317_sbig.jpg?width=1200\n"
     ]
    },
    {
     "name": "stdout",
     "output_type": "stream",
     "text": [
      "[WARNING] invalid extension, truncating extension: https://nouwcdn.com/12/1325000/1310000/1303466/pics/201705010838375317_sbig.jpg?width=1200\n[INFO] fetching: http://www.ethosboats.com/wp-content/uploads/ethos-crossover-boats-41.jpg\n"
     ]
    },
    {
     "name": "stdout",
     "output_type": "stream",
     "text": [
      "[INFO] fetching: http://www.geocities.ws/danncheryl/Images/Bill2.JPG\n"
     ]
    },
    {
     "name": "stdout",
     "output_type": "stream",
     "text": [
      "[WARNING] 600x380 is smaller than 400x400, skipping: http://www.geocities.ws/danncheryl/Images/Bill2.JPG\n[INFO] fetching: http://2.bp.blogspot.com/-ySL0PAVkRTE/UePHiOBxVkI/AAAAAAAADnU/Fbf5qoP8n9g/s1600/Croc+our+neighbour.jpg\n"
     ]
    },
    {
     "name": "stdout",
     "output_type": "stream",
     "text": [
      "[INFO] fetching: http://i.dailymail.co.uk/i/pix/2017/02/22/02/3D80044600000578-0-image-a-32_1487729132336.jpg\n"
     ]
    },
    {
     "name": "stdout",
     "output_type": "stream",
     "text": [
      "[INFO] fetching: https://i.pinimg.com/736x/e2/d2/95/e2d295adc2229617a82981e0a4d10487.jpg\n"
     ]
    },
    {
     "name": "stdout",
     "output_type": "stream",
     "text": [
      "[WARNING] 564x376 is smaller than 400x400, skipping: https://i.pinimg.com/736x/e2/d2/95/e2d295adc2229617a82981e0a4d10487.jpg\n[INFO] fetching: https://www.unrefugees.org/media/2016/rohingya-refugees-arrive-by-boat-rf2125933-1200x600.jpg\n"
     ]
    },
    {
     "name": "stdout",
     "output_type": "stream",
     "text": [
      "[INFO] fetching: http://www.aagenosta.lv/wp-content/uploads/2015/04/Mail-Attachment-7.jpeg\n"
     ]
    },
    {
     "name": "stdout",
     "output_type": "stream",
     "text": [
      "[INFO] fetching: http://www.btosc.co.uk/wordpress/wp-content/uploads/2010/06/DSCF2782cac.jpg\n"
     ]
    },
    {
     "name": "stdout",
     "output_type": "stream",
     "text": [
      "[INFO] fetching: https://media.giphy.com/media/g90R48JOVHzhu/giphy.gif\n"
     ]
    },
    {
     "name": "stdout",
     "output_type": "stream",
     "text": [
      "[WARNING] 500x262 is smaller than 400x400, skipping: https://media.giphy.com/media/g90R48JOVHzhu/giphy.gif\n[INFO] fetching: http://i.ebayimg.com/images/i/251473826440-0-1/s-l1000.jpg\n"
     ]
    },
    {
     "name": "stdout",
     "output_type": "stream",
     "text": [
      "[INFO] fetching: http://i.dailymail.co.uk/i/pix/2017/03/06/18/3E03D61300000578-4287020-image-m-63_1488825728185.jpg\n"
     ]
    },
    {
     "name": "stdout",
     "output_type": "stream",
     "text": [
      "[INFO] fetching: http://pacificcity.org/blessing/108.jpg\n"
     ]
    },
    {
     "name": "stdout",
     "output_type": "stream",
     "text": [
      "[INFO] fetching: https://www.summitdaily.com/wp-content/uploads/2017/06/Credit-Todd-Powell-Frisco-Marina--1240x827.jpg\n"
     ]
    },
    {
     "name": "stdout",
     "output_type": "stream",
     "text": [
      "[INFO] fetching: http://3.bp.blogspot.com/_DWtW7-nAO44/R5dlrzTqReI/AAAAAAAAAAw/dnh2R_kHZjc/w1200-h630-p-k-nu/life+of+pi.bmp\n"
     ]
    },
    {
     "name": "stdout",
     "output_type": "stream",
     "text": [
      "[INFO] fetching: http://today.agrilife.org/wp-content/uploads/2012/02/used-0216-HR.jpg\n[WARNING] deleting corrupted image: output/boat/00000023.jpg\n[INFO] fetching: http://www.ayrmodelboatclub.org/Brigantine_files/Brigantine%20Feature%208.png\n"
     ]
    },
    {
     "name": "stdout",
     "output_type": "stream",
     "text": [
      "[INFO] fetching: http://i.ytimg.com/vi/rmbPuLwmZ0M/maxresdefault.jpg\n"
     ]
    },
    {
     "name": "stdout",
     "output_type": "stream",
     "text": [
      "[INFO] fetching: http://cobi.pl/xatalogues/instrukcje/klocki/pingwiny/26231-cobi/files/assets/common/page-substrates/page0001.jpg\n"
     ]
    },
    {
     "name": "stdout",
     "output_type": "stream",
     "text": [
      "[INFO] fetching: http://enriquefan.informe.com/gallery/1809-3/enrique-iglesias-anna-kournikova-boat-07.jpg\n"
     ]
    },
    {
     "name": "stdout",
     "output_type": "stream",
     "text": [
      "[INFO] fetching: http://www.nauticed.org/blog/wp-content/uploads/2011/08/heaveto1.jpg\n"
     ]
    },
    {
     "name": "stdout",
     "output_type": "stream",
     "text": [
      "[INFO] fetching: http://1.bp.blogspot.com/-T9SRAq26Tn8/UyyKVzahzXI/AAAAAAAADEs/UKuVtFjKJX4/w1200-h630-p-k-no-nu/Bc-Utd5IgAE4tOe.jpg\n"
     ]
    },
    {
     "name": "stdout",
     "output_type": "stream",
     "text": [
      "[WARNING] 600x315 is smaller than 400x400, skipping: http://1.bp.blogspot.com/-T9SRAq26Tn8/UyyKVzahzXI/AAAAAAAADEs/UKuVtFjKJX4/w1200-h630-p-k-no-nu/Bc-Utd5IgAE4tOe.jpg\n[INFO] making request for group 50-100 of 56...\n"
     ]
    },
    {
     "name": "stdout",
     "output_type": "stream",
     "text": [
      "[INFO] saving images for group 50-100 of 56...\n[INFO] fetching: https://www.miamism.com/sites/miamism.com/files/uploads/post/22716/miamis-5-most-expensive-modern-homes-sale.png\n"
     ]
    },
    {
     "name": "stdout",
     "output_type": "stream",
     "text": [
      "[INFO] fetching: https://www.happinessandthings.com/wp-content/uploads/2018/06/Blue-Lagoon-Malta.jpg\n"
     ]
    },
    {
     "name": "stdout",
     "output_type": "stream",
     "text": [
      "[INFO] fetching: https://content.sierraclub.org/outings/sites/content.sierraclub.org.outings/files/trips/main-images/17167_6_TomMiller.jpg\n"
     ]
    },
    {
     "name": "stdout",
     "output_type": "stream",
     "text": [
      "[WARNING] deleting corrupted image: output/boat/00000031.jpg\n[INFO] fetching: http://www.godubaigo.com/wp-content/uploads/2016/09/Radisson-Blu-Hotel-Dubai-Deira-Creek-3.jpg\n"
     ]
    },
    {
     "name": "stdout",
     "output_type": "stream",
     "text": [
      "[INFO] fetching: https://buletinonline.net/v7/wp-content/uploads/2016/03/sekolah-melayu-2.png\n"
     ]
    },
    {
     "name": "stdout",
     "output_type": "stream",
     "text": [
      "[INFO] fetching: https://1.bp.blogspot.com/-Rpd8oTs29Tk/WRXCRWtHHiI/AAAAAAAAeuM/28M6CKCvEq0-u_u8f__iY57Y2b4bT2AAgCLcB/s1600/jess%2Bdavies%2B7.jpg\n"
     ]
    }
   ],
   "source": [
    "search_terms = [\n",
    "    'whale tail',\n",
    "    'mountain',\n",
    "    'bluff',\n",
    "    'ocean',\n",
    "    'water',\n",
    "    'sky',\n",
    "    'cloud',\n",
    "    'snow',\n",
    "    'iceberg',\n",
    "    'kayak',\n",
    "    'sailor',\n",
    "    'person',\n",
    "    'barnacle',\n",
    "    'seagull',\n",
    "    'camera',\n",
    "    'kelp',\n",
    "    'rainbow',\n",
    "    'building',\n",
    "    'forest',\n",
    "    'boat'\n",
    "]\n",
    "\n",
    "negative_terms = '-(celebrity OR celeb) -wallpaper -template -knife -(tour OR tours) -(ipad OR tablet OR product) -(sand OR sandcastle OR castle) -fountain -(ship OR boat OR car OR kawasaki OR vehicle OR nissan OR auto OR porsche) -wear -clothing -surfboard -clipart -slang -costa -rica -croptop -crop -stock -socal -aquatix -trailer -jewellry -(vector OR drawing OR illustration) -glass -polyester -panty -party -car -hot -thong -jewelry -poringa -tattoo -bracelet -butt -cindy -leggings -lollipops -site:(shutterstock.com OR dreamstime.com OR ebay.com OR 3forint.com OR pinterest.com OR authenticforum.com OR taringa.net OR acidcow.com OR wikipedia.org OR pinterest.es OR popsugar.com.au OR pinterest.de OR pinterest.co.uk OR thewolfweb.com OR wikimedia.org OR pinterest.pt OR webs.com OR pinterest.se OR gettyimages.com OR dbpedia.org OR texags.com OR pinterest.ca OR metro.co.uk OR deviantart.com OR pinterest.jp OR arkive.org OR throwsticks.com OR flickr.com)'\n",
    "\n",
    "start_at = 'boat'\n",
    "bStart = False\n",
    "for term in search_terms:\n",
    "    if term == start_at:\n",
    "        bStart = True\n",
    "    if bStart:\n",
    "        bis.scrape(\n",
    "            search_term=term + ' ' + negative_terms,\n",
    "            label=term\n",
    "        )\n"
   ]
  },
  {
   "cell_type": "code",
   "execution_count": null,
   "metadata": {},
   "outputs": [],
   "source": []
  }
 ],
 "metadata": {
  "kernelspec": {
   "display_name": "Python 2",
   "language": "python",
   "name": "python2"
  },
  "language_info": {
   "codemirror_mode": {
    "name": "ipython",
    "version": 2
   },
   "file_extension": ".py",
   "mimetype": "text/x-python",
   "name": "python",
   "nbconvert_exporter": "python",
   "pygments_lexer": "ipython2",
   "version": "2.7.6"
  }
 },
 "nbformat": 4,
 "nbformat_minor": 0
}
