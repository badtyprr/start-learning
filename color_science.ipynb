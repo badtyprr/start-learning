{
 "cells": [
  {
   "cell_type": "code",
   "execution_count": 5,
   "metadata": {
    "collapsed": false
   },
   "outputs": [
    {
     "name": "stdout",
     "output_type": "stream",
     "text": [
      "maroon shape: (100, 100, 3)\nroyal_red shape: (100, 100, 3)\nchartreuse shape: (100, 100, 3)\n"
     ]
    },
    {
     "data": {
      "text/plain": [
       "<matplotlib.image.AxesImage at 0x7f0b56e85c50>"
      ]
     },
     "execution_count": 5,
     "metadata": {},
     "output_type": "execute_result"
    },
    {
     "data": {
      "image/png": "[encoded data removed]",
      "text/plain": [
       "<Figure size 432x288 with 5 Axes>"
      ]
     },
     "metadata": {},
     "output_type": "display_data"
    }
   ],
   "source": [
    "# How to tell if a color is a similar shade\n",
    "import numpy as np\n",
    "import matplotlib.pyplot as plt\n",
    "\n",
    "# Two colors of the same shade\n",
    "maroon = np.resize(np.array([128, 0, 0]), (100, 100, 3))\n",
    "royal_red = np.resize(np.array([113, 16, 15]), (100, 100, 3))\n",
    "chartreuse = np.resize(np.array([128, 255, 0]), (100, 100, 3))\n",
    "snow = np.resize(np.array([255, 250, 250]), (100, 100, 3))\n",
    "slate_gray = np.resize(np.array([112, 128, 144]), (100, 100, 3))\n",
    "\n",
    "# Print matrix dimensions\n",
    "print('maroon shape: {}'.format(maroon.shape))\n",
    "print('royal_red shape: {}'.format(royal_red.shape))\n",
    "print('chartreuse shape: {}'.format(chartreuse.shape))\n",
    "\n",
    "# Display colors\n",
    "plt.figure()\n",
    "plt.subplot(1, 5, 1)\n",
    "plt.title('Maroon')\n",
    "plt.imshow(maroon)\n",
    "plt.subplot(1, 5, 2)\n",
    "plt.title('Royal Red')\n",
    "plt.imshow(royal_red)\n",
    "plt.subplot(1, 5, 3)\n",
    "plt.title('Chartreuse')\n",
    "plt.imshow(chartreuse)\n",
    "plt.subplot(1, 5, 4)\n",
    "plt.title('Snow')\n",
    "plt.imshow(snow)\n",
    "plt.subplot(1, 5, 5)\n",
    "plt.title('Slate Gray')\n",
    "plt.imshow(slate_gray)\n"
   ]
  },
  {
   "cell_type": "code",
   "execution_count": 2,
   "metadata": {},
   "outputs": [
    {
     "name": "stdout",
     "output_type": "stream",
     "text": [
      "maroon normalized: [1. 0. 0.]\nroyal_red normalized: [0.98168127 0.13899912 0.13031167]\nchartreuse normalized: [0.44861497 0.89372513 0.        ]\nsnow normalized: [0.58497164 0.57350161 0.57350161]\nslate gray normalized: [0.50257071 0.57436653 0.64616234]\n"
     ]
    }
   ],
   "source": [
    "# Convert colors to YIQ\n",
    "def normalize(a: np.array, axis=-1, order=2):\n",
    "    l2 = np.atleast_1d(np.linalg.norm(a, order, axis))\n",
    "    l2[l2==0] = 1\n",
    "    return a / np.expand_dims(l2, axis)\n",
    "\n",
    "# Normalize before conversion\n",
    "maroon_hat = normalize(maroon)\n",
    "royal_red_hat = normalize(royal_red)\n",
    "chartreuse_hat = normalize(chartreuse)\n",
    "snow_hat = normalize(snow)\n",
    "slate_gray_hat = normalize(slate_gray)\n",
    "\n",
    "# Print matrix dimensions\n",
    "print('maroon normalized: {}'.format(maroon_hat[0,0]))\n",
    "print('royal_red normalized: {}'.format(royal_red_hat[0,0]))\n",
    "print('chartreuse normalized: {}'.format(chartreuse_hat[0,0]))\n",
    "print('snow normalized: {}'.format(snow_hat[0,0]))\n",
    "print('slate gray normalized: {}'.format(slate_gray_hat[0,0]))\n"
   ]
  },
  {
   "cell_type": "code",
   "execution_count": 3,
   "metadata": {},
   "outputs": [
    {
     "name": "stdout",
     "output_type": "stream",
     "text": [
      "maroon YIQ: [0.299 0.596 0.211]\nroyal_red YIQ: [0.38997071 0.50503592 0.17509545]\nchartreuse YIQ: [ 0.65875253  0.02249383 -0.37276049]\nsnow YIQ: [0.57693115 0.00683614 0.00242018]\nslate_gray YIQ: [ 0.5610843  -0.06590856  0.00725138]\n"
     ]
    }
   ],
   "source": [
    "# Thanks: https://github.com/scikit-image/scikit-image/blob/master/skimage/color/colorconv.py\n",
    "# Thanks: http://cs.haifa.ac.il/hagit/courses/ist/Lectures/Demos/ColorApplet/me/infoyiq.html\n",
    "# NOTE: The Y parameter has the range [0,1], the I parameter has the range [-0.523,0.523], and the Q parameter has the range [-0.596,0.596].\n",
    "def rgb2yiq(rgb: np.array):\n",
    "    T_YIQ = np.array([\n",
    "        [0.299, 0.587, 0.114],\n",
    "        [0.596, -0.274, -0.322],\n",
    "        [0.211, -0.523, 0.312]\n",
    "    ])\n",
    "    rgb = np.asanyarray(rgb)\n",
    "\n",
    "    if rgb.ndim not in [3, 4] or rgb.shape[-1] != 3:\n",
    "        msg = (\"the input array must be have a shape == (.., ..,[ ..,] 3)), \" +\n",
    "               \"got (\" + (\", \".join(map(str, rgb.shape))) + \")\")\n",
    "        raise ValueError(msg)\n",
    "    \n",
    "    return rgb.astype(np.float) @ T_YIQ.T.copy()\n",
    "\n",
    "maroon_yiq = rgb2yiq(maroon_hat)\n",
    "royal_red_yiq = rgb2yiq(royal_red_hat)\n",
    "chartreuse_yiq = rgb2yiq(chartreuse_hat)\n",
    "snow_yiq = rgb2yiq(snow_hat)\n",
    "slate_gray_yiq = rgb2yiq(slate_gray_hat)\n",
    "\n",
    "# Print matrix dimensions\n",
    "print('maroon YIQ: {}'.format(maroon_yiq[0,0]))\n",
    "print('royal_red YIQ: {}'.format(royal_red_yiq[0,0]))\n",
    "print('chartreuse YIQ: {}'.format(chartreuse_yiq[0,0]))\n",
    "print('snow YIQ: {}'.format(snow_yiq[0,0]))\n",
    "print('slate_gray YIQ: {}'.format(slate_gray_yiq[0,0]))\n"
   ]
  },
  {
   "cell_type": "code",
   "execution_count": 4,
   "metadata": {},
   "outputs": [
    {
     "name": "stdout",
     "output_type": "stream",
     "text": [
      "Angle of maroon and royal red: 0.3739494938684184 deg\nAngle of maroon and chartreuse: 106.04206456205782 deg\nAngle of snow and slate gray: 154.2261382496119 deg\n"
     ]
    }
   ],
   "source": [
    "# Compare shades\n",
    "\n",
    "# Thanks: https://stackoverflow.com/questions/2827393/angles-between-two-n-dimensional-vectors-in-python\n",
    "def unit_vector(vector):\n",
    "    \"\"\" Returns the unit vector of the vector.  \"\"\"\n",
    "    return vector / np.linalg.norm(vector)\n",
    "\n",
    "def angle_between(v1, v2):\n",
    "    v1_u = unit_vector(v1)\n",
    "    v2_u = unit_vector(v2)\n",
    "    return np.arccos(np.clip(np.dot(v1_u, v2_u), -1.0, 1.0))\n",
    "\n",
    "theta_maroon_royal_red = angle_between(\n",
    "    maroon_yiq[0,0][1:],\n",
    "    royal_red_yiq[0,0][1:]\n",
    ")\n",
    "theta_maroon_chartreuse = angle_between(\n",
    "    maroon_yiq[0,0][1:],\n",
    "    chartreuse_yiq[0,0][1:]\n",
    ")\n",
    "theta_snow_slate_gray = angle_between(\n",
    "    snow_yiq[0,0][1:],\n",
    "    slate_gray_yiq[0,0][1:]\n",
    ")\n",
    "\n",
    "print('Angle of maroon and royal red: {} deg'.format(\n",
    "    theta_maroon_royal_red*180/np.pi\n",
    "))\n",
    "print('Angle of maroon and chartreuse: {} deg'.format(\n",
    "    theta_maroon_chartreuse*180/np.pi\n",
    "))\n",
    "print('Angle of snow and slate gray: {} deg'.format(\n",
    "    theta_snow_slate_gray*180/np.pi\n",
    "))\n"
   ]
  },
  {
   "cell_type": "code",
   "execution_count": null,
   "metadata": {},
   "outputs": [],
   "source": []
  }
 ],
 "metadata": {
  "kernelspec": {
   "display_name": "Python 2",
   "language": "python",
   "name": "python2"
  },
  "language_info": {
   "codemirror_mode": {
    "name": "ipython",
    "version": 2
   },
   "file_extension": ".py",
   "mimetype": "text/x-python",
   "name": "python",
   "nbconvert_exporter": "python",
   "pygments_lexer": "ipython2",
   "version": "2.7.6"
  }
 },
 "nbformat": 4,
 "nbformat_minor": 0
}
