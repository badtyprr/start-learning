{
 "cells": [
  {
   "cell_type": "code",
   "execution_count": 1,
   "metadata": {
    "collapsed": true
   },
   "outputs": [],
   "source": [
    "\"\"\"\n",
    "Fine-grained classification practice with Flower-17\n",
    "\"\"\"\n",
    "\n",
    "# Python Packages\n",
    "import argparse\n",
    "import os\n",
    "# 3rd Party Packages\n",
    "import numpy as np\n",
    "import matplotlib.pyplot as plt\n",
    "from sklearn.preprocessing import LabelBinarizer\n",
    "from sklearn.model_selection import train_test_split\n",
    "from sklearn.metrics import classification_report\n",
    "from tensorflow.keras.optimizers import SGD\n",
    "# User Packages\n",
    "from start.preprocessing import ImageToTensorPreprocessor, ResizePreprocessor\n",
    "from start.loader import ImageDataset\n"
   ]
  },
  {
   "cell_type": "code",
   "execution_count": 3,
   "metadata": {
    "collapsed": false
   },
   "outputs": [
    {
     "name": "stdout",
     "output_type": "stream",
     "text": [
      "[INFO] Processing label: dandelion\n[INFO] processed 20 dandelion images\n[INFO] processed 40 dandelion images\n[INFO] processed 60 dandelion images\n[INFO] processed 80 dandelion images\n[INFO] Processing label: coltsfoot\n[INFO] processed 20 coltsfoot images\n[INFO] processed 40 coltsfoot images\n"
     ]
    },
    {
     "name": "stdout",
     "output_type": "stream",
     "text": [
      "[INFO] processed 60 coltsfoot images\n[INFO] processed 80 coltsfoot images\n[INFO] Processing label: lilyvalley\n[INFO] processed 20 lilyvalley images\n[INFO] processed 40 lilyvalley images\n[INFO] processed 60 lilyvalley images\n[INFO] processed 80 lilyvalley images\n[INFO] Processing label: cowslip\n[INFO] processed 20 cowslip images\n"
     ]
    },
    {
     "name": "stdout",
     "output_type": "stream",
     "text": [
      "[INFO] processed 40 cowslip images\n[INFO] processed 60 cowslip images\n[INFO] processed 80 cowslip images\n[INFO] Processing label: iris\n[INFO] processed 20 iris images\n[INFO] processed 40 iris images\n[INFO] processed 60 iris images\n[INFO] processed 80 iris images\n[INFO] Processing label: snowdrop\n"
     ]
    },
    {
     "name": "stdout",
     "output_type": "stream",
     "text": [
      "[INFO] processed 20 snowdrop images\n[INFO] processed 40 snowdrop images\n[INFO] processed 60 snowdrop images\n[INFO] processed 80 snowdrop images\n[INFO] Processing label: sunflower\n[INFO] processed 20 sunflower images\n[INFO] processed 40 sunflower images\n[INFO] processed 60 sunflower images\n"
     ]
    },
    {
     "name": "stdout",
     "output_type": "stream",
     "text": [
      "[INFO] processed 80 sunflower images\n[INFO] Processing label: tigerlily\n[INFO] processed 20 tigerlily images\n[INFO] processed 40 tigerlily images\n[INFO] processed 60 tigerlily images\n[INFO] processed 80 tigerlily images\n[INFO] Processing label: daisy\n[INFO] processed 20 daisy images\n"
     ]
    },
    {
     "name": "stdout",
     "output_type": "stream",
     "text": [
      "[INFO] processed 40 daisy images\n[INFO] processed 60 daisy images\n[INFO] processed 80 daisy images\n[INFO] Processing label: pansy\n[INFO] processed 20 pansy images\n[INFO] processed 40 pansy images\n[INFO] processed 60 pansy images\n[INFO] processed 80 pansy images\n[INFO] Processing label: crocus\n"
     ]
    },
    {
     "name": "stdout",
     "output_type": "stream",
     "text": [
      "[INFO] processed 20 crocus images\n[INFO] processed 40 crocus images\n[INFO] processed 60 crocus images\n[INFO] processed 80 crocus images\n[INFO] Processing label: daffodil\n[INFO] processed 20 daffodil images\n[INFO] processed 40 daffodil images\n[INFO] processed 60 daffodil images\n"
     ]
    },
    {
     "name": "stdout",
     "output_type": "stream",
     "text": [
      "[INFO] processed 80 daffodil images\n[INFO] Processing label: fritillary\n[INFO] processed 20 fritillary images\n[INFO] processed 40 fritillary images\n[INFO] processed 60 fritillary images\n[INFO] processed 80 fritillary images\n[INFO] Processing label: buttercup\n[INFO] processed 20 buttercup images\n[INFO] processed 40 buttercup images\n"
     ]
    },
    {
     "name": "stdout",
     "output_type": "stream",
     "text": [
      "[INFO] processed 60 buttercup images\n[INFO] processed 80 buttercup images\n[INFO] Processing label: windflower\n[INFO] processed 20 windflower images\n[INFO] processed 40 windflower images\n[INFO] processed 60 windflower images\n[INFO] processed 80 windflower images\n[INFO] Processing label: files.txt\n[INFO] Processing label: tulip\n[INFO] processed 20 tulip images\n"
     ]
    },
    {
     "name": "stdout",
     "output_type": "stream",
     "text": [
      "[INFO] processed 40 tulip images\n[INFO] processed 60 tulip images\n[INFO] processed 80 tulip images\n[INFO] Processing label: bluebell\n[INFO] processed 20 bluebell images\n[INFO] processed 40 bluebell images\n[INFO] processed 60 bluebell images\n"
     ]
    },
    {
     "name": "stdout",
     "output_type": "stream",
     "text": [
      "[INFO] processed 80 bluebell images\ndata shape: (1360, 64, 64, 3)\nlabels shape: (1360,)\n"
     ]
    }
   ],
   "source": [
    "# Load Flowers-17 dataset\n",
    "dataset = ImageDataset(\n",
    "    preprocessors=[\n",
    "        ResizePreprocessor(64, 64, aspect_preserving=True),\n",
    "        ImageToTensorPreprocessor()\n",
    "    ]\n",
    ")\n",
    "(data, labels) = dataset.load(\n",
    "    dataset_path=r'/home/share/dataset/flowers17',\n",
    "    verbosity=20\n",
    ")\n",
    "\n",
    "print('data shape: {}'.format(data.shape))\n",
    "print('labels shape: {}'.format(labels.shape))\n"
   ]
  },
  {
   "cell_type": "code",
   "execution_count": 2,
   "metadata": {},
   "outputs": [],
   "source": []
  },
  {
   "cell_type": "code",
   "execution_count": null,
   "metadata": {},
   "outputs": [],
   "source": []
  }
 ],
 "metadata": {
  "kernelspec": {
   "display_name": "Python 2",
   "language": "python",
   "name": "python2"
  },
  "language_info": {
   "codemirror_mode": {
    "name": "ipython",
    "version": 2
   },
   "file_extension": ".py",
   "mimetype": "text/x-python",
   "name": "python",
   "nbconvert_exporter": "python",
   "pygments_lexer": "ipython2",
   "version": "2.7.6"
  }
 },
 "nbformat": 4,
 "nbformat_minor": 0
}
