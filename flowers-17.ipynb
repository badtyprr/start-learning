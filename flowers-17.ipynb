{
 "cells": [
  {
   "cell_type": "code",
   "execution_count": 1,
   "metadata": {},
   "outputs": [],
   "source": [
    "\"\"\"\n",
    "Fine-grained classification practice with Flower-17\n",
    "\"\"\"\n",
    "\n",
    "# Python Packages\n",
    "import argparse\n",
    "import os\n",
    "import time\n",
    "# 3rd Party Packages\n",
    "import numpy as np\n",
    "import matplotlib.pyplot as plt\n",
    "from sklearn.preprocessing import LabelBinarizer\n",
    "from sklearn.model_selection import train_test_split\n",
    "from tensorflow.keras.optimizers import SGD\n",
    "from tensorflow.keras.preprocessing.image import ImageDataGenerator\n",
    "import cv2\n",
    "from sigopt import Connection\n",
    "import pycm\n",
    "# Initialize the optimizer and model\n",
    "from tensorflow.keras.optimizers import Adam\n",
    "from tensorflow.keras.backend import clear_session\n",
    "from tensorflow.keras.callbacks import TensorBoard\n",
    "from tensorflow.keras.models import save_model\n",
    "# User Packages\n",
    "from start.preprocessing import ImageToTensorPreprocessor, ResizePreprocessor, ColorSpacePreprocessor\n",
    "from start.loader import ImageCachedDataset\n",
    "from start.model import MobileNetV2\n",
    "from keys.sigopt import token"
   ]
  },
  {
   "cell_type": "code",
   "execution_count": 2,
   "metadata": {},
   "outputs": [],
   "source": [
    "WIDTH = 224\n",
    "HEIGHT = WIDTH\n",
    "CHANNELS = 1\n",
    "BATCH_SIZE = 32\n",
    "# Initialize optimizer\n",
    "N_EPOCHS = 100\n",
    "learning_rate = 0.01\n",
    "decay_rate = learning_rate / N_EPOCHS\n",
    "N_TRAINABLE_LAYERS = 152\n",
    "timestamp = time.time()\n",
    "OUTPUT_DIR = r'/home/share/education/deep_learning/pyimagesearch/models/flower-17-sigopt/'\n",
    "EXPERIMENT_ID = 57907\n",
    "nLoops = 1"
   ]
  },
  {
   "cell_type": "code",
   "execution_count": 3,
   "metadata": {},
   "outputs": [
    {
     "name": "stdout",
     "output_type": "stream",
     "text": [
      "[INFO] Processing label: dandelion\n[INFO] processed 80 dandelion images\n[INFO] Processing label: coltsfoot\n[INFO] processed 80 coltsfoot images\n[INFO] Processing label: lilyvalley\n[INFO] processed 80 lilyvalley images\n[INFO] Processing label: cowslip\n[INFO] processed 80 cowslip images\n[INFO] Processing label: iris\n[INFO] processed 80 iris images\n[INFO] Processing label: snowdrop\n[INFO] processed 80 snowdrop images\n[INFO] Processing label: sunflower\n[INFO] processed 80 sunflower images\n[INFO] Processing label: tigerlily\n[INFO] processed 80 tigerlily images\n[INFO] Processing label: daisy\n"
     ]
    },
    {
     "name": "stdout",
     "output_type": "stream",
     "text": [
      "[INFO] processed 80 daisy images\n[INFO] Processing label: pansy\n[INFO] processed 80 pansy images\n[INFO] Processing label: crocus\n[INFO] processed 80 crocus images\n[INFO] Processing label: daffodil\n[INFO] processed 80 daffodil images\n[INFO] Processing label: fritillary\n[INFO] processed 80 fritillary images\n[INFO] Processing label: buttercup\n[INFO] processed 80 buttercup images\n[INFO] Processing label: windflower\n[INFO] processed 80 windflower images\n[INFO] Processing label: files.txt\n[INFO] Processing label: tulip\n[INFO] processed 80 tulip images\n[INFO] Processing label: bluebell\n[INFO] processed 80 bluebell images\ndata shape: (1360, 224, 224, 1)\nlabels shape: (1360,)\n"
     ]
    }
   ],
   "source": [
    "# Load Flowers-17 dataset\n",
    "dataset = ImageCachedDataset(\n",
    "    preprocessors=[\n",
    "        ResizePreprocessor(width=WIDTH, height=HEIGHT, aspect_preserving=True),\n",
    "        ColorSpacePreprocessor(conversion=cv2.COLOR_BGR2GRAY),\n",
    "        ImageToTensorPreprocessor()\n",
    "    ],\n",
    "    dataset_path=r'/home/share/dataset/flowers17'\n",
    ")\n",
    "(data, labels) = dataset.load(\n",
    "    verbosity=80\n",
    ")\n",
    "\n",
    "print('data shape: {}'.format(data.shape))\n",
    "print('labels shape: {}'.format(labels.shape))\n",
    "\n",
    "classes = set(labels)\n",
    "\n",
    "# Normalize data\n",
    "data = data.astype(np.float) / 255.0"
   ]
  },
  {
   "cell_type": "code",
   "execution_count": 4,
   "metadata": {},
   "outputs": [],
   "source": [
    "# Setup data splits\n",
    "# Partition into train and test splits\n",
    "(trainX, testX, trainY, testY) = train_test_split(\n",
    "    data, labels,\n",
    "    test_size=0.2,\n",
    "    random_state=int(time.time()),\n",
    "    stratify=list(labels)\n",
    ")\n",
    "(valX, testX, valY, testY) = train_test_split(\n",
    "    testX, testY,\n",
    "    test_size=0.4,\n",
    "    random_state=int(time.time()),\n",
    "    stratify=list(testY)\n",
    ")\n",
    "\n",
    "# Binarize output to one hot vectors\n",
    "lb = LabelBinarizer()\n",
    "trainY = lb.fit_transform(trainY)\n",
    "valY = lb.fit_transform(valY)\n",
    "testY = lb.fit_transform(testY)\n",
    "\n",
    "# Data augmentation\n",
    "augmenter = ImageDataGenerator(\n",
    "    rotation_range=30,\n",
    "    width_shift_range=0.1,\n",
    "    height_shift_range=0.1,\n",
    "    shear_range=0.2,\n",
    "    zoom_range=0.2,\n",
    "    horizontal_flip=True,\n",
    "    fill_mode='nearest'\n",
    ")"
   ]
  },
  {
   "cell_type": "code",
   "execution_count": 5,
   "metadata": {},
   "outputs": [
    {
     "name": "stdout",
     "output_type": "stream",
     "text": [
      "Created experiment: https://app.sigopt.com/experiment/57907\n"
     ]
    }
   ],
   "source": [
    "# Sigopt\n",
    "sigopt_connection = Connection(client_token=token)\n",
    "\"\"\"\n",
    "sigopt_experiment = sigopt_connection.experiments().create(\n",
    "    name='Flowers-17-MobileNetV2-{}'.format(timestamp),\n",
    "    parameters=[\n",
    "        dict(name='dense_units', type='int', bounds=dict(min=128, max=512)),\n",
    "        dict(name='dropout_rate', type='double', bounds=dict(min=0.2, max=0.6)),\n",
    "        dict(name='regularization_strength', type='double', bounds=dict(min=0.0001, max=0.01))\n",
    "    ],\n",
    "    metrics=[dict(name='function_value')],\n",
    "    parallel_bandwidth=1,\n",
    "    observation_budget=30\n",
    ")\n",
    "\"\"\"\n",
    "sigopt_experiment = sigopt_connection.experiments(EXPERIMENT_ID).fetch()\n",
    "print(\"Created experiment: https://app.sigopt.com/experiment/\" + sigopt_experiment.id)\n",
    "\n"
   ]
  },
  {
   "cell_type": "code",
   "execution_count": 6,
   "metadata": {},
   "outputs": [
    {
     "name": "stdout",
     "output_type": "stream",
     "text": [
      "[INFO] ImageNet weights w/ Non-Standard Input Dimensions, redefining MobileNetV2 head...\n"
     ]
    },
    {
     "name": "stdout",
     "output_type": "stream",
     "text": [
      "[INFO] training network...\n"
     ]
    },
    {
     "name": "stdout",
     "output_type": "stream",
     "text": [
      "Epoch 1/100\n"
     ]
    },
    {
     "name": "stdout",
     "output_type": "stream",
     "text": [
      "\r 1/34 [..............................] - ETA: 1:45 - loss: 3.2716 - acc: 0.0000e+00"
     ]
    },
    {
     "name": "stdout",
     "output_type": "stream",
     "text": [
      "\b\b\b\b\b\b\b\b\b\b\b\b\b\b\b\b\b\b\b\b\b\b\b\b\b\b\b\b\b\b\b\b\b\b\b\b\b\b\b\b\b\b\b\b\b\b\b\b\b\b\b\b\b\b\b\b\b\b\b\b\b\b\b\b\b\b\b\b\b\b\b\b\b\b\b\b\b\b\b\b\b\b\b\r 2/34 [>.............................] - ETA: 52s - loss: 3.0964 - acc: 0.0625     "
     ]
    },
    {
     "name": "stdout",
     "output_type": "stream",
     "text": [
      "\b\b\b\b\b\b\b\b\b\b\b\b\b\b\b\b\b\b\b\b\b\b\b\b\b\b\b\b\b\b\b\b\b\b\b\b\b\b\b\b\b\b\b\b\b\b\b\b\b\b\b\b\b\b\b\b\b\b\b\b\b\b\b\b\b\b\b\b\b\b\b\b\b\b\b\b\b\b\r 3/34 [=>............................] - ETA: 34s - loss: 3.1425 - acc: 0.0521"
     ]
    },
    {
     "name": "stdout",
     "output_type": "stream",
     "text": [
      "\b\b\b\b\b\b\b\b\b\b\b\b\b\b\b\b\b\b\b\b\b\b\b\b\b\b\b\b\b\b\b\b\b\b\b\b\b\b\b\b\b\b\b\b\b\b\b\b\b\b\b\b\b\b\b\b\b\b\b\b\b\b\b\b\b\b\b\b\b\b\b\b\b\b\b\b\b\b\r 4/34 [==>...........................] - ETA: 25s - loss: 3.0826 - acc: 0.0703"
     ]
    },
    {
     "name": "stdout",
     "output_type": "stream",
     "text": [
      "\b\b\b\b\b\b\b\b\b\b\b\b\b\b\b\b\b\b\b\b\b\b\b\b\b\b\b\b\b\b\b\b\b\b\b\b\b\b\b\b\b\b\b\b\b\b\b\b\b\b\b\b\b\b\b\b\b\b\b\b\b\b\b\b\b\b\b\b\b\b\b\b\b\b\b\b\b\b\r 5/34 [===>..........................] - ETA: 20s - loss: 3.0588 - acc: 0.0750"
     ]
    },
    {
     "name": "stdout",
     "output_type": "stream",
     "text": [
      "\b\b\b\b\b\b\b\b\b\b\b\b\b\b\b\b\b\b\b\b\b\b\b\b\b\b\b\b\b\b\b\b\b\b\b\b\b\b\b\b\b\b\b\b\b\b\b\b\b\b\b\b\b\b\b\b\b\b\b\b\b\b\b\b\b\b\b\b\b\b\b\b\b\b\b\b\b\b\r 6/34 [====>.........................] - ETA: 16s - loss: 3.0531 - acc: 0.0781"
     ]
    },
    {
     "name": "stdout",
     "output_type": "stream",
     "text": [
      "\b\b\b\b\b\b\b\b\b\b\b\b\b\b\b\b\b\b\b\b\b\b\b\b\b\b\b\b\b\b\b\b\b\b\b\b\b\b\b\b\b\b\b\b\b\b\b\b\b\b\b\b\b\b\b\b\b\b\b\b\b\b\b\b\b\b\b\b\b\b\b\b\b\b\b\b\b\b\r 7/34 [=====>........................] - ETA: 14s - loss: 3.0048 - acc: 0.0848"
     ]
    },
    {
     "name": "stdout",
     "output_type": "stream",
     "text": [
      "\b\b\b\b\b\b\b\b\b\b\b\b\b\b\b\b\b\b\b\b\b\b\b\b\b\b\b\b\b\b\b\b\b\b\b\b\b\b\b\b\b\b\b\b\b\b\b\b\b\b\b\b\b\b\b\b\b\b\b\b\b\b\b\b\b\b\b\b\b\b\b\b\b\b\b\b\b\b\r 8/34 [======>.......................] - ETA: 12s - loss: 2.9834 - acc: 0.0938"
     ]
    },
    {
     "name": "stdout",
     "output_type": "stream",
     "text": [
      "\b\b\b\b\b\b\b\b\b\b\b\b\b\b\b\b\b\b\b\b\b\b\b\b\b\b\b\b\b\b\b\b\b\b\b\b\b\b\b\b\b\b\b\b\b\b\b\b\b\b\b\b\b\b\b\b\b\b\b\b\b\b\b\b\b\b\b\b\b\b\b\b\b\b\b\b\b\b\r 9/34 [======>.......................] - ETA: 10s - loss: 2.9548 - acc: 0.1007"
     ]
    },
    {
     "name": "stdout",
     "output_type": "stream",
     "text": [
      "\b\b\b\b\b\b\b\b\b\b\b\b\b\b\b\b\b\b\b\b\b\b\b\b\b\b\b\b\b\b\b\b\b\b\b\b\b\b\b\b\b\b\b\b\b\b\b\b\b\b\b\b\b\b\b\b\b\b\b\b\b\b\b\b\b\b\b\b\b\b\b\b\b\b\b\b\b\b\r10/34 [=======>......................] - ETA: 9s - loss: 2.9246 - acc: 0.1094 "
     ]
    },
    {
     "name": "stdout",
     "output_type": "stream",
     "text": [
      "\b\b\b\b\b\b\b\b\b\b\b\b\b\b\b\b\b\b\b\b\b\b\b\b\b\b\b\b\b\b\b\b\b\b\b\b\b\b\b\b\b\b\b\b\b\b\b\b\b\b\b\b\b\b\b\b\b\b\b\b\b\b\b\b\b\b\b\b\b\b\b\b\b\b\b\b\b\r11/34 [========>.....................] - ETA: 8s - loss: 2.8873 - acc: 0.1193"
     ]
    },
    {
     "name": "stdout",
     "output_type": "stream",
     "text": [
      "\b\b\b\b\b\b\b\b\b\b\b\b\b\b\b\b\b\b\b\b\b\b\b\b\b\b\b\b\b\b\b\b\b\b\b\b\b\b\b\b\b\b\b\b\b\b\b\b\b\b\b\b\b\b\b\b\b\b\b\b\b\b\b\b\b\b\b\b\b\b\b\b\b\b\b\b\b\r12/34 [=========>....................] - ETA: 7s - loss: 2.8423 - acc: 0.1458"
     ]
    },
    {
     "name": "stdout",
     "output_type": "stream",
     "text": [
      "\b\b\b\b\b\b\b\b\b\b\b\b\b\b\b\b\b\b\b\b\b\b\b\b\b\b\b\b\b\b\b\b\b\b\b\b\b\b\b\b\b\b\b\b\b\b\b\b\b\b\b\b\b\b\b\b\b\b\b\b\b\b\b\b\b\b\b\b\b\b\b\b\b\b\b\b\b\r13/34 [==========>...................] - ETA: 6s - loss: 2.8157 - acc: 0.1538"
     ]
    },
    {
     "name": "stdout",
     "output_type": "stream",
     "text": [
      "\b\b\b\b\b\b\b\b\b\b\b\b\b\b\b\b\b\b\b\b\b\b\b\b\b\b\b\b\b\b\b\b\b\b\b\b\b\b\b\b\b\b\b\b\b\b\b\b\b\b\b\b\b\b\b\b\b\b\b\b\b\b\b\b\b\b\b\b\b\b\b\b\b\b\b\b\b\r14/34 [===========>..................] - ETA: 5s - loss: 2.7943 - acc: 0.1562"
     ]
    },
    {
     "name": "stdout",
     "output_type": "stream",
     "text": [
      "\b\b\b\b\b\b\b\b\b\b\b\b\b\b\b\b\b\b\b\b\b\b\b\b\b\b\b\b\b\b\b\b\b\b\b\b\b\b\b\b\b\b\b\b\b\b\b\b\b\b\b\b\b\b\b\b\b\b\b\b\b\b\b\b\b\b\b\b\b\b\b\b\b\b\b\b\b\r15/34 [============>.................] - ETA: 5s - loss: 2.7465 - acc: 0.1833"
     ]
    },
    {
     "name": "stdout",
     "output_type": "stream",
     "text": [
      "\b\b\b\b\b\b\b\b\b\b\b\b\b\b\b\b\b\b\b\b\b\b\b\b\b\b\b\b\b\b\b\b\b\b\b\b\b\b\b\b\b\b\b\b\b\b\b\b\b\b\b\b\b\b\b\b\b\b\b\b\b\b\b\b\b\b\b\b\b\b\b\b\b\b\b\b\b\r16/34 [=============>................] - ETA: 4s - loss: 2.7227 - acc: 0.1895"
     ]
    },
    {
     "name": "stdout",
     "output_type": "stream",
     "text": [
      "\b\b\b\b\b\b\b\b\b\b\b\b\b\b\b\b\b\b\b\b\b\b\b\b\b\b\b\b\b\b\b\b\b\b\b\b\b\b\b\b\b\b\b\b\b\b\b\b\b\b\b\b\b\b\b\b\b\b\b\b\b\b\b\b\b\b\b\b\b\b\b\b\b\b\b\b\b\r17/34 [==============>...............] - ETA: 4s - loss: 2.6866 - acc: 0.2022"
     ]
    },
    {
     "name": "stdout",
     "output_type": "stream",
     "text": [
      "\b\b\b\b\b\b\b\b\b\b\b\b\b\b\b\b\b\b\b\b\b\b\b\b\b\b\b\b\b\b\b\b\b\b\b\b\b\b\b\b\b\b\b\b\b\b\b\b\b\b\b\b\b\b\b\b\b\b\b\b\b\b\b\b\b\b\b\b\b\b\b\b\b\b\b\b\b\r18/34 [==============>...............] - ETA: 3s - loss: 2.6619 - acc: 0.2135"
     ]
    },
    {
     "name": "stdout",
     "output_type": "stream",
     "text": [
      "\b\b\b\b\b\b\b\b\b\b\b\b\b\b\b\b\b\b\b\b\b\b\b\b\b\b\b\b\b\b\b\b\b\b\b\b\b\b\b\b\b\b\b\b\b\b\b\b\b\b\b\b\b\b\b\b\b\b\b\b\b\b\b\b\b\b\b\b\b\b\b\b\b\b\b\b\b\r19/34 [===============>..............] - ETA: 3s - loss: 2.6440 - acc: 0.2188"
     ]
    },
    {
     "name": "stdout",
     "output_type": "stream",
     "text": [
      "\b\b\b\b\b\b\b\b\b\b\b\b\b\b\b\b\b\b\b\b\b\b\b\b\b\b\b\b\b\b\b\b\b\b\b\b\b\b\b\b\b\b\b\b\b\b\b\b\b\b\b\b\b\b\b\b\b\b\b\b\b\b\b\b\b\b\b\b\b\b\b\b\b\b\b\b\b\r20/34 [================>.............] - ETA: 3s - loss: 2.6253 - acc: 0.2250"
     ]
    },
    {
     "name": "stdout",
     "output_type": "stream",
     "text": [
      "\b\b\b\b\b\b\b\b\b\b\b\b\b\b\b\b\b\b\b\b\b\b\b\b\b\b\b\b\b\b\b\b\b\b\b\b\b\b\b\b\b\b\b\b\b\b\b\b\b\b\b\b\b\b\b\b\b\b\b\b\b\b\b\b\b\b\b\b\b\b\b\b\b\b\b\b\b\r21/34 [=================>............] - ETA: 2s - loss: 2.5888 - acc: 0.2381"
     ]
    },
    {
     "name": "stdout",
     "output_type": "stream",
     "text": [
      "\b\b\b\b\b\b\b\b\b\b\b\b\b\b\b\b\b\b\b\b\b\b\b\b\b\b\b\b\b\b\b\b\b\b\b\b\b\b\b\b\b\b\b\b\b\b\b\b\b\b\b\b\b\b\b\b\b\b\b\b\b\b\b\b\b\b\b\b\b\b\b\b\b\b\b\b\b\r22/34 [==================>...........] - ETA: 2s - loss: 2.5735 - acc: 0.2415"
     ]
    },
    {
     "name": "stdout",
     "output_type": "stream",
     "text": [
      "\b\b\b\b\b\b\b\b\b\b\b\b\b\b\b\b\b\b\b\b\b\b\b\b\b\b\b\b\b\b\b\b\b\b\b\b\b\b\b\b\b\b\b\b\b\b\b\b\b\b\b\b\b\b\b\b\b\b\b\b\b\b\b\b\b\b\b\b\b\b\b\b\b\b\b\b\b\r23/34 [===================>..........] - ETA: 2s - loss: 2.5487 - acc: 0.2459"
     ]
    },
    {
     "name": "stdout",
     "output_type": "stream",
     "text": [
      "\b\b\b\b\b\b\b\b\b\b\b\b\b\b\b\b\b\b\b\b\b\b\b\b\b\b\b\b\b\b\b\b\b\b\b\b\b\b\b\b\b\b\b\b\b\b\b\b\b\b\b\b\b\b\b\b\b\b\b\b\b\b\b\b\b\b\b\b\b\b\b\b\b\b\b\b\b\r24/34 [====================>.........] - ETA: 2s - loss: 2.5212 - acc: 0.2552"
     ]
    },
    {
     "name": "stdout",
     "output_type": "stream",
     "text": [
      "\b\b\b\b\b\b\b\b\b\b\b\b\b\b\b\b\b\b\b\b\b\b\b\b\b\b\b\b\b\b\b\b\b\b\b\b\b\b\b\b\b\b\b\b\b\b\b\b\b\b\b\b\b\b\b\b\b\b\b\b\b\b\b\b\b\b\b\b\b\b\b\b\b\b\b\b\b\r25/34 [=====================>........] - ETA: 1s - loss: 2.4971 - acc: 0.2662"
     ]
    },
    {
     "name": "stdout",
     "output_type": "stream",
     "text": [
      "\b\b\b\b\b\b\b\b\b\b\b\b\b\b\b\b\b\b\b\b\b\b\b\b\b\b\b\b\b\b\b\b\b\b\b\b\b\b\b\b\b\b\b\b\b\b\b\b\b\b\b\b\b\b\b\b\b\b\b\b\b\b\b\b\b\b\b\b\b\b\b\b\b\b\b\b\b\r26/34 [=====================>........] - ETA: 1s - loss: 2.4665 - acc: 0.2776"
     ]
    },
    {
     "name": "stdout",
     "output_type": "stream",
     "text": [
      "\b\b\b\b\b\b\b\b\b\b\b\b\b\b\b\b\b\b\b\b\b\b\b\b\b\b\b\b\b\b\b\b\b\b\b\b\b\b\b\b\b\b\b\b\b\b\b\b\b\b\b\b\b\b\b\b\b\b\b\b\b\b\b\b\b\b\b\b\b\b\b\b\b\b\b\b\b\r27/34 [======================>.......] - ETA: 1s - loss: 2.4535 - acc: 0.2778"
     ]
    },
    {
     "name": "stdout",
     "output_type": "stream",
     "text": [
      "\b\b\b\b\b\b\b\b\b\b\b\b\b\b\b\b\b\b\b\b\b\b\b\b\b\b\b\b\b\b\b\b\b\b\b\b\b\b\b\b\b\b\b\b\b\b\b\b\b\b\b\b\b\b\b\b\b\b\b\b\b\b\b\b\b\b\b\b\b\b\b\b\b\b\b\b\b\r28/34 [=======================>......] - ETA: 1s - loss: 2.4269 - acc: 0.2879"
     ]
    },
    {
     "name": "stdout",
     "output_type": "stream",
     "text": [
      "\b\b\b\b\b\b\b\b\b\b\b\b\b\b\b\b\b\b\b\b\b\b\b\b\b\b\b\b\b\b\b\b\b\b\b\b\b\b\b\b\b\b\b\b\b\b\b\b\b\b\b\b\b\b\b\b\b\b\b\b\b\b\b\b\b\b\b\b\b\b\b\b\b\b\b\b\b\r29/34 [========================>.....] - ETA: 0s - loss: 2.4057 - acc: 0.2963"
     ]
    },
    {
     "name": "stdout",
     "output_type": "stream",
     "text": [
      "\b\b\b\b\b\b\b\b\b\b\b\b\b\b\b\b\b\b\b\b\b\b\b\b\b\b\b\b\b\b\b\b\b\b\b\b\b\b\b\b\b\b\b\b\b\b\b\b\b\b\b\b\b\b\b\b\b\b\b\b\b\b\b\b\b\b\b\b\b\b\b\b\b\b\b\b\b\r30/34 [=========================>....] - ETA: 0s - loss: 2.3756 - acc: 0.3094"
     ]
    },
    {
     "name": "stdout",
     "output_type": "stream",
     "text": [
      "\b\b\b\b\b\b\b\b\b\b\b\b\b\b\b\b\b\b\b\b\b\b\b\b\b\b\b\b\b\b\b\b\b\b\b\b\b\b\b\b\b\b\b\b\b\b\b\b\b\b\b\b\b\b\b\b\b\b\b\b\b\b\b\b\b\b\b\b\b\b\b\b\b\b\b\b\b\r31/34 [==========================>...] - ETA: 0s - loss: 2.3493 - acc: 0.3175"
     ]
    },
    {
     "name": "stdout",
     "output_type": "stream",
     "text": [
      "\b\b\b\b\b\b\b\b\b\b\b\b\b\b\b\b\b\b\b\b\b\b\b\b\b\b\b\b\b\b\b\b\b\b\b\b\b\b\b\b\b\b\b\b\b\b\b\b\b\b\b\b\b\b\b\b\b\b\b\b\b\b\b\b\b\b\b\b\b\b\b\b\b\b\b\b\b\r32/34 [===========================>..] - ETA: 0s - loss: 2.3180 - acc: 0.3271"
     ]
    }
   ],
   "source": [
    "# Run the optimization loop until observation budget is exhausted or local budget exhausted\n",
    "while sigopt_experiment.progress.observation_count < sigopt_experiment.observation_budget or nLoops > 0:\n",
    "    # Get SigOpt suggestions\n",
    "    try:\n",
    "        suggestion = sigopt_connection.experiments(sigopt_experiment.id).suggestions().create()\n",
    "    except:\n",
    "        pass\n",
    "\n",
    "    # Build model \n",
    "    model = MobileNetV2.build({\n",
    "        'width':        WIDTH,\n",
    "        'height':       HEIGHT,\n",
    "        'channels':     CHANNELS,\n",
    "        'classes':      classes,\n",
    "        'weights':      'imagenet',\n",
    "        'dense_units':  242,\n",
    "        'dropout_rate': 0.43,\n",
    "        'regularization_strength': 0.0001,\n",
    "    })\n",
    "    \n",
    "    \"\"\"\n",
    "    tb_callback = TensorBoard(\n",
    "        log_dir='./logs/{}'.format(timestamp), \n",
    "        histogram_freq=2, \n",
    "        batch_size=BATCH_SIZE, \n",
    "        write_graph=False, \n",
    "        write_grads=False, \n",
    "        write_images=False, \n",
    "        embeddings_freq=0,\n",
    "        embeddings_layer_names=None, \n",
    "        embeddings_metadata=None, \n",
    "        embeddings_data=None\n",
    "    )\n",
    "    \"\"\"\n",
    "    \n",
    "    opt = SGD(\n",
    "        lr=learning_rate,\n",
    "        momentum=0,\n",
    "        decay=0,\n",
    "        nesterov=False\n",
    "    )\n",
    "    \"\"\"\n",
    "    opt = Adam(\n",
    "        lr=learning_rate,\n",
    "        beta_1=0.99,\n",
    "        beta_2=0.999,\n",
    "        epsilon=0.1,\n",
    "        decay=decay_rate,\n",
    "        amsgrad=False\n",
    "    )\n",
    "    \"\"\"\n",
    "    \n",
    "    model.compile(\n",
    "        loss='categorical_crossentropy',\n",
    "        optimizer=opt,\n",
    "        metrics=['accuracy']\n",
    "    )\n",
    "    \n",
    "    # Train the network\n",
    "    print('[INFO] training network...')\n",
    "    history = model.fit_generator(\n",
    "        augmenter.flow(trainX, trainY, \n",
    "                       batch_size=BATCH_SIZE),\n",
    "        validation_data=(valX, valY),\n",
    "        steps_per_epoch=len(trainX) // BATCH_SIZE,\n",
    "        epochs=N_EPOCHS,\n",
    "        callbacks=[],\n",
    "        verbose=1\n",
    "    )\n",
    "\n",
    "    # Evaluate the network\n",
    "    print('[INFO] evaluating network...')\n",
    "    predictions = model.predict(testX, batch_size=BATCH_SIZE)\n",
    "    \n",
    "    cm = pycm.ConfusionMatrix(\n",
    "        actual_vector=lb.inverse_transform(testY),\n",
    "        predict_vector=lb.inverse_transform(predictions)\n",
    "    )\n",
    "    \n",
    "    model_string = ('{0}_flowers-17-bw-valacc{1:.3f}-valloss{2:.3f}-du{3}-do{4:.3f}-rs{5:.3f}'.format(\n",
    "        timestamp, \n",
    "        history.history['val_acc'][-1],\n",
    "        history.history['val_loss'][-1],\n",
    "        242,\n",
    "        0.43,\n",
    "        0.0001\n",
    "    )).replace('.', ',')\n",
    "    # Save CM\n",
    "    cm.save_html(os.path.join(OUTPUT_DIR, '{}_confusion_matrix'.format(model_string)))\n",
    "    # Save model\n",
    "    save_model(\n",
    "        model,\n",
    "        os.path.join(OUTPUT_DIR, model_string + '.h5')\n",
    "    )\n",
    "    \n",
    "    # Plot the training loss and accuracy\n",
    "    plt.style.use('ggplot')\n",
    "    plt.figure()\n",
    "    plt.plot(np.arange(0, N_EPOCHS), history.history['loss'], label='train_loss')\n",
    "    plt.plot(np.arange(0, N_EPOCHS), history.history['val_loss'], label='val_loss')\n",
    "    plt.plot(np.arange(0, N_EPOCHS), history.history['acc'], label='train_acc')\n",
    "    plt.plot(np.arange(0, N_EPOCHS), history.history['val_acc'], label='val_acc')\n",
    "    plt.title('Training Loss and Accuracy')\n",
    "    plt.xlabel('Epoch #')\n",
    "    plt.ylabel('Loss/Accuracy')\n",
    "    plt.legend()\n",
    "    plt.savefig(os.path.join(OUTPUT_DIR, model_string+'.png'))\n",
    "    \n",
    "    try:\n",
    "        # Report to SigOpt\n",
    "        sigopt_connection.experiments(sigopt_experiment.id).observations().create(\n",
    "            suggestion=suggestion.id,\n",
    "            value=1.0/(history.history['val_loss'][-1])\n",
    "        )\n",
    "        # Update the experiment object\n",
    "        sigopt_experiment = sigopt_connection.experiments(sigopt_experiment.id).fetch()\n",
    "    except:\n",
    "        pass\n",
    "    \n",
    "    nLoops -= 1"
   ]
  },
  {
   "cell_type": "code",
   "execution_count": null,
   "metadata": {},
   "outputs": [],
   "source": [
    "# Fetch the best configuration and explore your experiment\n",
    "best_assignments = sigopt_connection.experiments(sigopt_experiment.id).best_assignments().fetch().data[0].assignments\n",
    "print(\"Best Assignments: \" + best_assignments)\n",
    "print(\"Explore your experiment: https://app.sigopt.com/experiment/\" + sigopt_experiment.id + \"/analysis\")"
   ]
  },
  {
   "cell_type": "markdown",
   "metadata": {},
   "source": [
    "## Here the most common ways to prevent overfitting in neural networks:\n",
    "\n",
    "* Get more training data.\n",
    "* Reduce the capacity of the network.\n",
    "* Add weight regularization.\n",
    "* Add dropout."
   ]
  },
  {
   "cell_type": "code",
   "execution_count": null,
   "metadata": {},
   "outputs": [],
   "source": []
  }
 ],
 "metadata": {
  "kernelspec": {
   "display_name": "Python 2",
   "language": "python",
   "name": "python2"
  },
  "language_info": {
   "codemirror_mode": {
    "name": "ipython",
    "version": 2
   },
   "file_extension": ".py",
   "mimetype": "text/x-python",
   "name": "python",
   "nbconvert_exporter": "python",
   "pygments_lexer": "ipython2",
   "version": "2.7.6"
  }
 },
 "nbformat": 4,
 "nbformat_minor": 0
}
