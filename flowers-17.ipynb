{
 "cells": [
  {
   "cell_type": "code",
   "execution_count": 1,
   "metadata": {
    "collapsed": true
   },
   "outputs": [],
   "source": [
    "\"\"\"\n",
    "Fine-grained classification practice with Flower-17\n",
    "\"\"\"\n",
    "\n",
    "# Python Packages\n",
    "import argparse\n",
    "import os\n",
    "import time\n",
    "# 3rd Party Packages\n",
    "import numpy as np\n",
    "import matplotlib.pyplot as plt\n",
    "from sklearn.preprocessing import LabelBinarizer\n",
    "from sklearn.model_selection import train_test_split\n",
    "from sklearn.metrics import classification_report\n",
    "from tensorflow.keras.optimizers import SGD\n",
    "from tensorflow.keras.preprocessing.image import ImageDataGenerator\n",
    "from tensorflow.keras.applications.mobilenet_v2 import MobileNetV2\n",
    "# User Packages\n",
    "from start.preprocessing import ImageToTensorPreprocessor, ResizePreprocessor\n",
    "from start.loader import ImageDataset\n",
    "from start.model import MiniVGGNet\n"
   ]
  },
  {
   "cell_type": "code",
   "execution_count": 2,
   "metadata": {
    "collapsed": false
   },
   "outputs": [
    {
     "name": "stdout",
     "output_type": "stream",
     "text": [
      "[INFO] Processing label: dandelion\n[INFO] processed 80 dandelion images\n[INFO] Processing label: coltsfoot\n"
     ]
    },
    {
     "name": "stdout",
     "output_type": "stream",
     "text": [
      "[INFO] processed 80 coltsfoot images\n[INFO] Processing label: lilyvalley\n[INFO] processed 80 lilyvalley images\n[INFO] Processing label: cowslip\n"
     ]
    },
    {
     "name": "stdout",
     "output_type": "stream",
     "text": [
      "[INFO] processed 80 cowslip images\n[INFO] Processing label: iris\n[INFO] processed 80 iris images\n[INFO] Processing label: snowdrop\n"
     ]
    },
    {
     "name": "stdout",
     "output_type": "stream",
     "text": [
      "[INFO] processed 80 snowdrop images\n[INFO] Processing label: sunflower\n[INFO] processed 80 sunflower images\n[INFO] Processing label: tigerlily\n"
     ]
    },
    {
     "name": "stdout",
     "output_type": "stream",
     "text": [
      "[INFO] processed 80 tigerlily images\n[INFO] Processing label: daisy\n[INFO] processed 80 daisy images\n[INFO] Processing label: pansy\n"
     ]
    },
    {
     "name": "stdout",
     "output_type": "stream",
     "text": [
      "[INFO] processed 80 pansy images\n[INFO] Processing label: crocus\n[INFO] processed 80 crocus images\n[INFO] Processing label: daffodil\n"
     ]
    },
    {
     "name": "stdout",
     "output_type": "stream",
     "text": [
      "[INFO] processed 80 daffodil images\n[INFO] Processing label: fritillary\n[INFO] processed 80 fritillary images\n[INFO] Processing label: buttercup\n"
     ]
    },
    {
     "name": "stdout",
     "output_type": "stream",
     "text": [
      "[INFO] processed 80 buttercup images\n[INFO] Processing label: windflower\n[INFO] processed 80 windflower images\n[INFO] Processing label: files.txt\n[INFO] Processing label: tulip\n"
     ]
    },
    {
     "name": "stdout",
     "output_type": "stream",
     "text": [
      "[INFO] processed 80 tulip images\n[INFO] Processing label: bluebell\n[INFO] processed 80 bluebell images\n"
     ]
    },
    {
     "name": "stdout",
     "output_type": "stream",
     "text": [
      "data shape: (1360, 224, 224, 3)\nlabels shape: (1360,)\n"
     ]
    }
   ],
   "source": [
    "# Load Flowers-17 dataset\n",
    "dataset = ImageDataset(\n",
    "    preprocessors=[\n",
    "        ResizePreprocessor(224, 224, aspect_preserving=True),\n",
    "        ImageToTensorPreprocessor()\n",
    "    ]\n",
    ")\n",
    "(data, labels) = dataset.load(\n",
    "    dataset_path=r'/home/share/dataset/flowers17',\n",
    "    verbosity=80\n",
    ")\n",
    "\n",
    "print('data shape: {}'.format(data.shape))\n",
    "print('labels shape: {}'.format(labels.shape))\n",
    "\n",
    "classes = set(labels)\n",
    "\n",
    "# Normalize data\n",
    "data = data.astype(np.float) / 255.0"
   ]
  },
  {
   "cell_type": "code",
   "execution_count": 3,
   "metadata": {},
   "outputs": [],
   "source": [
    "# Setup data splits\n",
    "# Partition into train and test splits\n",
    "(trainX, testX, trainY, testY) = train_test_split(\n",
    "    data, labels,\n",
    "    test_size=0.3,\n",
    "    random_state=int(time.time()),\n",
    "    stratify=list(labels)\n",
    ")\n",
    "(valX, testX, valY, testY) = train_test_split(\n",
    "    testX, testY,\n",
    "    test_size=0.4,\n",
    "    random_state=int(time.time()),\n",
    "    stratify=list(testY)\n",
    ")\n",
    "\n",
    "# Binarize output to one hot vectors\n",
    "lb = LabelBinarizer()\n",
    "trainY = lb.fit_transform(trainY)\n",
    "valY = lb.fit_transform(valY)\n",
    "testY = lb.fit_transform(testY)\n",
    "\n",
    "# Data augmentation\n",
    "augmenter = ImageDataGenerator(\n",
    "    rotation_range=30,\n",
    "    width_shift_range=0.1,\n",
    "    height_shift_range=0.1,\n",
    "    shear_range=0.2,\n",
    "    zoom_range=0.2,\n",
    "    horizontal_flip=True,\n",
    "    fill_mode='nearest'\n",
    ")"
   ]
  },
  {
   "cell_type": "code",
   "execution_count": 4,
   "metadata": {},
   "outputs": [
    {
     "name": "stdout",
     "output_type": "stream",
     "text": [
      "[INFO] compiling model...\n"
     ]
    },
    {
     "name": "stdout",
     "output_type": "stream",
     "text": [
      "_________________________________________________________________\nLayer (type)                 Output Shape              Param #   \n=================================================================\nmobilenetv2_1.40_224 (Model) (None, 1792)              4363712   \n_________________________________________________________________\ndense (Dense)                (None, 17)                30481     \n=================================================================\nTotal params: 4,394,193\nTrainable params: 4,346,257\nNon-trainable params: 47,936\n_________________________________________________________________\n"
     ]
    }
   ],
   "source": [
    "# Initialize the optimizer and model\n",
    "print('[INFO] compiling model...')\n",
    "opt = SGD(lr=0.05)\n",
    "properties = {\n",
    "    'width':    64,\n",
    "    'height':   64,\n",
    "    'channels': 3,\n",
    "    'classes':  len(classes)\n",
    "}\n",
    "#model = MiniVGGNet.build(properties)\n",
    "from tensorflow.keras.models import Sequential\n",
    "from tensorflow.keras.layers import Dense\n",
    "model = Sequential()\n",
    "model.add(MobileNetV2(\n",
    "    input_shape=(224, 224, 3),\n",
    "    alpha=1.4, \n",
    "    depth_multiplier=1, \n",
    "    include_top=False, \n",
    "    weights='imagenet', \n",
    "    input_tensor=None, \n",
    "    pooling='avg'\n",
    "))\n",
    "model.add(Dense(\n",
    "    units=len(classes),\n",
    "    activation='softmax',\n",
    "    use_bias=True,\n",
    "    kernel_initializer='glorot_uniform',\n",
    "    bias_initializer='glorot_uniform',\n",
    "    kernel_regularizer=None,\n",
    "    bias_regularizer=None,\n",
    "    activity_regularizer=None,\n",
    "    kernel_constraint=None,\n",
    "    bias_constraint=None\n",
    "))\n",
    "model.compile(\n",
    "    loss='categorical_crossentropy',\n",
    "    optimizer=opt,\n",
    "    metrics=['accuracy']\n",
    ")\n",
    "#mnv2.summary()\n",
    "model.summary()"
   ]
  },
  {
   "cell_type": "code",
   "execution_count": 5,
   "metadata": {},
   "outputs": [],
   "source": [
    "# Initialize TensorBoard\n",
    "from tensorflow.keras.callbacks import TensorBoard\n",
    "\n",
    "BATCH_SIZE = 32\n",
    "\n",
    "timestamp = time.time()\n",
    "\n",
    "tb_callback = TensorBoard(\n",
    "    log_dir='./logs/{}'.format(timestamp), \n",
    "    histogram_freq=1, \n",
    "    batch_size=BATCH_SIZE, \n",
    "    write_graph=True, \n",
    "    write_grads=True, \n",
    "    write_images=False, \n",
    "    embeddings_freq=0,\n",
    "    embeddings_layer_names=None, \n",
    "    embeddings_metadata=None, \n",
    "    embeddings_data=None\n",
    ")"
   ]
  },
  {
   "cell_type": "code",
   "execution_count": 6,
   "metadata": {},
   "outputs": [
    {
     "name": "stdout",
     "output_type": "stream",
     "text": [
      "[INFO] training network...\n"
     ]
    }
   ],
   "source": [
    "# Train the network\n",
    "print('[INFO] training network...')\n",
    "N_EPOCHS = 75\n",
    "history = model.fit_generator(\n",
    "    augmenter.flow(trainX, trainY, \n",
    "                   batch_size=BATCH_SIZE),\n",
    "    validation_data=(valX, valY),\n",
    "    steps_per_epoch=len(trainX) // BATCH_SIZE,\n",
    "    epochs=N_EPOCHS,\n",
    "    callbacks=[tb_callback],\n",
    "    verbose=1\n",
    ")"
   ]
  },
  {
   "cell_type": "code",
   "execution_count": 8,
   "metadata": {},
   "outputs": [
    {
     "name": "stdout",
     "output_type": "stream",
     "text": [
      "[INFO] evaluating network...\n"
     ]
    },
    {
     "data": {
      "image/png": "[encoded data removed]",
      "text/plain": [
       "<Figure size 432x288 with 1 Axes>"
      ]
     },
     "metadata": {},
     "output_type": "display_data"
    }
   ],
   "source": [
    "import pycm\n",
    "\n",
    "# Evaluate the network\n",
    "print('[INFO] evaluating network...')\n",
    "predictions = model.predict(testX, batch_size=BATCH_SIZE)\n",
    "\n",
    "cm = pycm.ConfusionMatrix(\n",
    "    actual_vector=lb.inverse_transform(testY),\n",
    "    predict_vector=lb.inverse_transform(predictions)\n",
    ")\n",
    "cm.save_html(r'output/confusion_matrix.html')\n",
    "\n",
    "# Plot the training loss and accuracy\n",
    "plt.style.use('ggplot')\n",
    "plt.figure()\n",
    "plt.plot(np.arange(0, N_EPOCHS), history.history['loss'], label='train_loss')\n",
    "plt.plot(np.arange(0, N_EPOCHS), history.history['val_loss'], label='val_loss')\n",
    "plt.plot(np.arange(0, N_EPOCHS), history.history['acc'], label='train_acc')\n",
    "plt.plot(np.arange(0, N_EPOCHS), history.history['val_acc'], label='val_acc')\n",
    "plt.title('Training Loss and Accuracy')\n",
    "plt.xlabel('Epoch #')\n",
    "plt.ylabel('Loss/Accuracy')\n",
    "plt.legend()\n",
    "plt.show()"
   ]
  },
  {
   "cell_type": "code",
   "execution_count": 8,
   "metadata": {},
   "outputs": [],
   "source": []
  }
 ],
 "metadata": {
  "kernelspec": {
   "display_name": "Python 2",
   "language": "python",
   "name": "python2"
  },
  "language_info": {
   "codemirror_mode": {
    "name": "ipython",
    "version": 2
   },
   "file_extension": ".py",
   "mimetype": "text/x-python",
   "name": "python",
   "nbconvert_exporter": "python",
   "pygments_lexer": "ipython2",
   "version": "2.7.6"
  }
 },
 "nbformat": 4,
 "nbformat_minor": 0
}
